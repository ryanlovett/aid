{
 "cells": [
  {
   "cell_type": "markdown",
   "metadata": {},
   "source": [
    "# aid-iptables\n",
    "\n",
    "aid-iptables is a command line utility that can query the ISP AID List and automatically create iptables rules to block ips on the AID List."
   ]
  },
  {
   "cell_type": "code",
   "execution_count": 4,
   "metadata": {
    "collapsed": false
   },
   "outputs": [
    {
     "name": "stdout",
     "output_type": "stream",
     "text": [
      "Usage: aid-iptables [OPTIONS]\r\n",
      "\r\n",
      "Options:\r\n",
      "  --start-date TEXT          default='1 week ago' - Generate AID list with IPs\r\n",
      "                             detected since start-date\r\n",
      "  --service TEXT             default= (all services) - Only include hits for\r\n",
      "                             the specified service\r\n",
      "  --whitelist PATH           Path to whitelist file containing one ip address\r\n",
      "                             or subnet per line\r\n",
      "  --seen-count INTEGER       default=10 - Minimum # of alerts an aid list IP\r\n",
      "                             has generated\r\n",
      "  --chain-name TEXT          default=aid - The name of the iptables chain to\r\n",
      "                             use for the aid list\r\n",
      "  --input-chain-pos INTEGER  default=0 - Position in INPUT chain to add a jump\r\n",
      "                             to the aid chain\r\n",
      "  -h, --help                 Show this message and exit.\r\n"
     ]
    }
   ],
   "source": [
    "aid-iptables -h"
   ]
  },
  {
   "cell_type": "markdown",
   "metadata": {},
   "source": [
    "### Default behavior\n",
    "\n",
    "#### Running **aid-iptables** with no arguments will:\n",
    "\n",
    "- Query the AID List for all entries added within the last 7 days\n",
    "- create (if needed) an IPTables Chain named \"aid\"\n",
    "- add an unconditional jump to the \"aid\" chain as the first rule in the IPTables INPUT chain\n",
    "- For each entry in the returned AID List, add an IPTables rule, with target=DROP, to the \"aid\" chain"
   ]
  },
  {
   "cell_type": "code",
   "execution_count": 1,
   "metadata": {
    "collapsed": false
   },
   "outputs": [
    {
     "name": "stdout",
     "output_type": "stream",
     "text": [
      "Chain INPUT (policy ACCEPT)\r\n",
      "target     prot opt source               destination         \r\n",
      "\r\n",
      "Chain FORWARD (policy DROP)\r\n",
      "target     prot opt source               destination         \r\n",
      "\r\n",
      "Chain OUTPUT (policy ACCEPT)\r\n",
      "target     prot opt source               destination         \r\n"
     ]
    }
   ],
   "source": [
    "# IPTables before running aid-iptables\n",
    "iptables -L"
   ]
  },
  {
   "cell_type": "code",
   "execution_count": 4,
   "metadata": {
    "collapsed": false
   },
   "outputs": [
    {
     "name": "stdout",
     "output_type": "stream",
     "text": []
    }
   ],
   "source": [
    "# Run api-iptables with default settings\n",
    "aid-iptables"
   ]
  },
  {
   "cell_type": "code",
   "execution_count": 33,
   "metadata": {
    "collapsed": false
   },
   "outputs": [
    {
     "name": "stdout",
     "output_type": "stream",
     "text": [
      "Chain INPUT (policy ACCEPT)\r\n",
      "target     prot opt source               destination         \r\n",
      "aid        all  --  0.0.0.0/0            0.0.0.0/0           \r\n",
      "\r\n",
      "Chain FORWARD (policy DROP)\r\n",
      "target     prot opt source               destination         \r\n",
      "\r\n",
      "Chain OUTPUT (policy ACCEPT)\r\n",
      "target     prot opt source               destination         \r\n",
      "\r\n",
      "Chain aid (1 references)\r\n",
      "target     prot opt source               destination         \r\n",
      "DROP       all  --  1.93.59.153          0.0.0.0/0           \r\n",
      "DROP       all  --  5.45.79.24           0.0.0.0/0           \r\n",
      "DROP       all  --  23.96.45.195         0.0.0.0/0           \r\n",
      "DROP       all  --  27.221.10.43         0.0.0.0/0           \r\n"
     ]
    }
   ],
   "source": [
    "# Truncating output for space\n",
    "iptables -L -n | head -n 16"
   ]
  },
  {
   "cell_type": "markdown",
   "metadata": {},
   "source": [
    "### Changing the time window \n",
    "\n",
    "By default, aid-iptables queries for IP address that have been added to the AID list within the last 7 days.  The **start-date** parameter can be used to query for a shorter or longer window.  **start-date** accepts most date formats and english descriptions.\n",
    "\n",
    "    aid-iptables --start-date=\"1 month\"\n",
    "    aid-iptables --start-date=\"11/12/2015\""
   ]
  },
  {
   "cell_type": "markdown",
   "metadata": {},
   "source": [
    "### Filtering by service\n",
    "\n",
    "#### To filter the AID list to only include IPs that have been detected attacking a specific service\n",
    "    \n",
    "    aid-iptables --service=ssh\n",
    "\n",
    "#### To filter by multiple services, either pass a comma seperated list to --service, or invoke the --service option multiple times\n",
    "\n",
    "    aid-iptables --service=ssh --service=rdp\n",
    "    aid-iptables --service=ssh,rdp"
   ]
  },
  {
   "cell_type": "markdown",
   "metadata": {
    "collapsed": false
   },
   "source": [
    "### Using a whitelist\n",
    "\n",
    "A whitelist, a text file containing one IP Addresses or Subnet in CIDR notation per line, can be used to prevent IPTables block rules from being created.  \n",
    "\n",
    "    aid-iptables --whitelist=<path-to-whitelist>\n"
   ]
  },
  {
   "cell_type": "code",
   "execution_count": 25,
   "metadata": {
    "collapsed": false
   },
   "outputs": [
    {
     "name": "stdout",
     "output_type": "stream",
     "text": [
      "Chain aid (1 references)\r\n",
      "target     prot opt source               destination         \r\n",
      "DROP       all  --  1.93.56.129          0.0.0.0/0           \r\n",
      "DROP       all  --  1.93.59.153          0.0.0.0/0           \r\n",
      "DROP       all  --  5.45.79.24           0.0.0.0/0           \r\n",
      "DROP       all  --  14.160.13.174        0.0.0.0/0           \r\n"
     ]
    }
   ],
   "source": [
    "aid-iptables\n",
    "iptables -L aid -n | head -n 6"
   ]
  },
  {
   "cell_type": "code",
   "execution_count": 26,
   "metadata": {
    "collapsed": false
   },
   "outputs": [
    {
     "name": "stdout",
     "output_type": "stream",
     "text": [
      "1.93.56.0/24\r\n",
      "14.160.13.174\r\n"
     ]
    }
   ],
   "source": [
    "cat ~/whitelist"
   ]
  },
  {
   "cell_type": "code",
   "execution_count": 29,
   "metadata": {
    "collapsed": false
   },
   "outputs": [
    {
     "name": "stdout",
     "output_type": "stream",
     "text": [
      "Chain aid (1 references)\r\n",
      "target     prot opt source               destination         \r\n",
      "DROP       all  --  1.93.59.153          0.0.0.0/0           \r\n",
      "DROP       all  --  5.45.79.24           0.0.0.0/0           \r\n",
      "DROP       all  --  23.96.45.195         0.0.0.0/0           \r\n",
      "DROP       all  --  27.221.10.43         0.0.0.0/0           \r\n"
     ]
    }
   ],
   "source": [
    "aid-iptables --whitelist=/root/whitelist\n",
    "iptables -L aid -n | head -n 6"
   ]
  },
  {
   "cell_type": "markdown",
   "metadata": {},
   "source": [
    "### Filtering by Aggresiveness\n",
    "\n",
    "The AID list keeps track of how many times an aggressive IP address has been generated an alert. The **seen-count** argument can be used to set minimum number of detections for an IP address to be blocked.  The default for **seen_count** is 10.\n",
    "\n",
    "#### Block every IP address that has generated an alert in the past month\n",
    "    aid-iptables --seen_count=1 --start-date=\"1 month\"\n",
    "    \n",
    "#### Only block IP addresses that have generated at least 50 alerts in the past month\n",
    "    aid-iptables --seen_count=50 --start-date=\"1 month\"\n"
   ]
  },
  {
   "cell_type": "markdown",
   "metadata": {},
   "source": [
    "### IPTables Options\n",
    "\n",
    "### chain-name\n",
    "\n",
    "The **chain-name** parameter controls the name of the IPtables chain used by aid-iptables.  By default, the chain's name is aid.  Caution must be taken if this parameter is changed after aid-iptables has been run, as it will not attempt to flush or remove the old chain, this must be done manually\n",
    "\n",
    "### input-chain-pos \n",
    "\n",
    "By default, aid-iptables will insert an uncoditional jump to **chain-name** as the first rule in the INPUT chain.  The postion of this unconditional jump can be changed with **input-chain-pos** argument"
   ]
  },
  {
   "cell_type": "code",
   "execution_count": null,
   "metadata": {
    "collapsed": true
   },
   "outputs": [],
   "source": []
  }
 ],
 "metadata": {
  "kernelspec": {
   "display_name": "Bash",
   "language": "bash",
   "name": "bash"
  },
  "language_info": {
   "codemirror_mode": "shell",
   "file_extension": ".sh",
   "mimetype": "text/x-sh",
   "name": "bash"
  }
 },
 "nbformat": 4,
 "nbformat_minor": 0
}
