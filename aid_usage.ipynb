{
 "cells": [
  {
   "cell_type": "markdown",
   "metadata": {},
   "source": [
    "# aid\n",
    "\n",
    "aid is a collection of tools for interacting with UC Berkeley's AID (Aggressive IP Distribution) List.  The aid package consists of:\n",
    "\n",
    "- aid module - python library for retrieving the AID list\n",
    "- aid-iptables - cli script that generates IPTables Rules to block IPs contained in the AID List"
   ]
  },
  {
   "cell_type": "markdown",
   "metadata": {},
   "source": [
    "## Using the aid module\n",
    "\n",
    "First import the aid module"
   ]
  },
  {
   "cell_type": "code",
   "execution_count": 1,
   "metadata": {
    "collapsed": false
   },
   "outputs": [],
   "source": [
    "import aid\n",
    "from pprint import pprint"
   ]
  },
  {
   "cell_type": "markdown",
   "metadata": {},
   "source": [
    "### Get all AID entries for the past week\n",
    "\n",
    "By default, get_aidlist() will return all AID List entries from the past week"
   ]
  },
  {
   "cell_type": "code",
   "execution_count": 2,
   "metadata": {
    "collapsed": false
   },
   "outputs": [],
   "source": [
    "aid_list = aid.get_aidlist()"
   ]
  },
  {
   "cell_type": "markdown",
   "metadata": {},
   "source": [
    "get_aidlist returns a list of AidEntry namedtuples.\n",
    "\n",
    "An AidEntry is a simple object (Named Tuple) with the following fields"
   ]
  },
  {
   "cell_type": "code",
   "execution_count": 3,
   "metadata": {
    "collapsed": false
   },
   "outputs": [
    {
     "name": "stdout",
     "output_type": "stream",
     "text": [
      "('ip', 'tags', 'dst_port', 'last_seen_ts', 'first_seen_ts', 'service', 'seen_count')\n"
     ]
    }
   ],
   "source": [
    "print(aid.AIDEntry._fields)"
   ]
  },
  {
   "cell_type": "code",
   "execution_count": 4,
   "metadata": {
    "collapsed": false
   },
   "outputs": [
    {
     "name": "stdout",
     "output_type": "stream",
     "text": [
      "AidEntry(ip=IPv4Address('122.224.6.150'), tags=[], dst_port=3306, last_seen_ts='2015-09-29T14:33:05.000-07:00', first_seen_ts='2015-05-17T16:20:23.000-07:00', service='mysql', seen_count=108)\n",
      "\n",
      "122.224.6.150 3306\n"
     ]
    }
   ],
   "source": [
    "print(aid_list[0])\n",
    "\n",
    "entry = aid_list[0]\n",
    "print()\n",
    "print(entry.ip, entry.dst_port)"
   ]
  },
  {
   "cell_type": "markdown",
   "metadata": {},
   "source": [
    "### Filtering by service\n",
    "\n",
    "The AID List can be filtered to only return a subset of services by passing a list to the services parameter.   The default value for services is \"\", and does apply any filtering by service."
   ]
  },
  {
   "cell_type": "code",
   "execution_count": 5,
   "metadata": {
    "collapsed": false
   },
   "outputs": [
    {
     "name": "stdout",
     "output_type": "stream",
     "text": [
      "AidEntry(ip=IPv4Address('58.218.211.166'), tags=[], dst_port=22, last_seen_ts='2015-09-29T14:49:49.000-07:00', first_seen_ts='2015-04-24T13:46:51.000-07:00', service='ssh', seen_count=17836)\n",
      "\n",
      "aid_list_ssh: 101 entries\n",
      "aid_list_rdp: 16 entries\n",
      "aid_list_ssh_and_rdp 117 entries\n"
     ]
    }
   ],
   "source": [
    "aid_list_ssh = aid.get_aidlist(services=['ssh'])\n",
    "aid_list_rdp = aid.get_aidlist(services=['rdp'])\n",
    "\n",
    "aid_list_ssh_and_rdp = aid.get_aidlist(services=['ssh', 'rdp'])\n",
    "\n",
    "print(aid_list_ssh[0])\n",
    "print()\n",
    "print(\"aid_list_ssh: {0} entries\\naid_list_rdp: {1} entries\\naid_list_ssh_and_rdp {2} entries\".format(\n",
    "        len(aid_list_ssh), len(aid_list_rdp), len(aid_list_ssh_and_rdp)))"
   ]
  },
  {
   "cell_type": "markdown",
   "metadata": {},
   "source": [
    "### Filtering by date\n",
    "\n",
    "The AID List can also be filtered to only include IP's detected since a start date.  The default value for start_date is 1 week."
   ]
  },
  {
   "cell_type": "code",
   "execution_count": 7,
   "metadata": {
    "collapsed": false
   },
   "outputs": [
    {
     "name": "stdout",
     "output_type": "stream",
     "text": [
      "aid_list_last_day: 51\n",
      "aid_list_two_weeks: 241\n",
      "aid_list_since_sept: 369\n"
     ]
    }
   ],
   "source": [
    "aid_list_last_day = aid.get_aidlist(start_date='1 day')\n",
    "aid_list_two_weeks = aid.get_aidlist(start_date='2 weeks')\n",
    "aid_list_since_sept = aid.get_aidlist(start_date=\"2015-09-01\")\n",
    "\n",
    "print(\"aid_list_last_day: {}\".format(len(aid_list_last_day)))\n",
    "print(\"aid_list_two_weeks: {}\".format(len(aid_list_two_weeks)))\n",
    "print(\"aid_list_since_sept: {}\".format(len(aid_list_since_sept)))"
   ]
  },
  {
   "cell_type": "markdown",
   "metadata": {},
   "source": [
    "### Filtering by Aggressiveness\n",
    "\n",
    "Each time an IP generates an alert, it's \"seen_count\" is incremented.  This can be used to filter out less aggressive IPs.  The default value for seen_count is 10."
   ]
  },
  {
   "cell_type": "code",
   "execution_count": 10,
   "metadata": {
    "collapsed": false
   },
   "outputs": [
    {
     "name": "stdout",
     "output_type": "stream",
     "text": [
      "all_ips: 187\n",
      "aggro_ips: 86\n"
     ]
    }
   ],
   "source": [
    "all_ips = aid.get_aidlist()\n",
    "more_aggro_ips = aid.get_aidlist(seen_count=50)\n",
    "\n",
    "print(\"all_ips: {}\\naggro_ips: {}\".format(len(all_ips), len(more_aggro_ips)))"
   ]
  },
  {
   "cell_type": "markdown",
   "metadata": {},
   "source": [
    "### Combing Filters\n",
    "\n",
    "All the above filtering techniques can be combined"
   ]
  },
  {
   "cell_type": "code",
   "execution_count": 12,
   "metadata": {
    "collapsed": false
   },
   "outputs": [
    {
     "name": "stdout",
     "output_type": "stream",
     "text": [
      "combo_filter: 155\n"
     ]
    }
   ],
   "source": [
    "combo_filter = aid.get_aidlist(services=['ssh', 'rdp'], start_date='1 month', seen_count=25)\n",
    "print(\"combo_filter: {}\".format(len(combo_filter)))"
   ]
  },
  {
   "cell_type": "markdown",
   "metadata": {},
   "source": [
    "### Getting Unique IP Addresses\n",
    "\n",
    "If an IP generates alerts for multiple services (ssh and rdp for example) then that IP will have multiple entries in the aid list (one per service).  The aid modules also proves get_aidlist_ips which returns a list of unique IP addresses only."
   ]
  },
  {
   "cell_type": "code",
   "execution_count": 25,
   "metadata": {
    "collapsed": false
   },
   "outputs": [
    {
     "name": "stdout",
     "output_type": "stream",
     "text": [
      "all_ips: 187\n",
      "unique_ips: 162\n",
      "\n",
      "\n",
      "5.45.79.24\n",
      "23.95.82.74\n",
      "27.24.213.194\n",
      "36.72.228.72\n",
      "43.229.53.13\n"
     ]
    }
   ],
   "source": [
    "all_ips = aid.get_aidlist()\n",
    "unique_ips = aid.get_aidlist_ips()\n",
    "\n",
    "print(\"all_ips: {}\\nunique_ips: {}\".format(len(all_ips), len(unique_ips)))\n",
    "print(\"\\n\")\n",
    "for ip in unique_ips[:5]:\n",
    "    print(ip)"
   ]
  },
  {
   "cell_type": "code",
   "execution_count": null,
   "metadata": {
    "collapsed": true
   },
   "outputs": [],
   "source": []
  }
 ],
 "metadata": {
  "kernelspec": {
   "display_name": "Python 3",
   "language": "python",
   "name": "python3"
  },
  "language_info": {
   "codemirror_mode": {
    "name": "ipython",
    "version": 3
   },
   "file_extension": ".py",
   "mimetype": "text/x-python",
   "name": "python",
   "nbconvert_exporter": "python",
   "pygments_lexer": "ipython3",
   "version": "3.4.3"
  }
 },
 "nbformat": 4,
 "nbformat_minor": 0
}
